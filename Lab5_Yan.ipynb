{
  "nbformat": 4,
  "nbformat_minor": 0,
  "metadata": {
    "colab": {
      "provenance": []
    },
    "kernelspec": {
      "name": "python3",
      "display_name": "Python 3"
    },
    "language_info": {
      "name": "python"
    }
  },
  "cells": [
    {
      "cell_type": "markdown",
      "source": [
        "Q 1. A study of primary education asked elementary school students to retell two book articles that they read earlier in the week. The first (Article 1) had no pictures, and the second (Article 2) was illustrated with pictures. An expert listened to recordings of the students retelling each article and assigned a score for certain uses of language. Higher scores are better. Here are the data for five readers in this study:\n",
        "\n",
        "*   Article 1: 0.40, 0.72, 0.00, 0.36, 0.55\n",
        "*   Article 2: 0.77, 0.49, 0.66, 0.28, 0.38\n",
        "\n",
        "\n",
        "1. What are H0 and Ha ?\n",
        "2. Is this a paired or unpaired experiment?\n",
        "3. Based on your previous answer, which nonparametric test statistic would you use to compare the medians of Article 1 and Article 2.\n",
        "4. Use a nonparametric test statistic to check if there is a statistically significant difference between the medians of Article 1 and Article 2.\n",
        "5. Will you accept or reject your Null Hypothesis? (alpha = 0.05) Do illustrations improve how the students retell an article or not? Why?\n"
      ],
      "metadata": {
        "id": "ZajS50XWTVQE"
      }
    },
    {
      "cell_type": "markdown",
      "source": [
        "**1. What are H0 and Ha?**\n",
        "\n",
        "  H0 (Null Hypothesis): There is no significant difference in the medians of the language scores between Article 1 and Article 2.\n",
        "\n",
        "  Ha (Alternative Hypothesis): There is a significant difference in the medians of the language scores between Article 1 and Article 2.\n",
        "\n",
        "\n",
        "**2. Is this a paired or unpaired experiment?**\n",
        "\n",
        "  This is a paired experiment, since we are comparing the same students' language score across different conditions (Article 1 and Article 2).\n",
        "\n",
        "\n",
        "**3. Based on your previous answer, which nonparametric test statistic would you use to compare the medians of Article 1 and Article 2?**\n",
        "\n",
        "  Since we are comparing medians of 2 paired groups, I would choose the Wilcoxon signed-rank test."
      ],
      "metadata": {
        "id": "o047SpZEcY7J"
      }
    },
    {
      "cell_type": "code",
      "source": [
        "# 4. Use a nonparametric test statistic to check if there is a statistically significant difference between the medians of Article 1 and Article 2.\n",
        "\n",
        "from scipy.stats import wilcoxon\n",
        "\n",
        "article_1 = [0.40, 0.72, 0.00, 0.36, 0.55]\n",
        "article_2 = [0.77, 0.49, 0.66, 0.28, 0.38]\n",
        "\n",
        "statistic, p_value = wilcoxon(article_1, article_2)\n",
        "\n",
        "print(f\"statistic: {statistic}\")\n",
        "print(f\"p-value: {p_value}\")"
      ],
      "metadata": {
        "colab": {
          "base_uri": "https://localhost:8080/",
          "height": 0
        },
        "id": "jyJTFHnlXTbE",
        "outputId": "d5341961-00d5-453e-cd29-f89b3b860237"
      },
      "execution_count": 3,
      "outputs": [
        {
          "output_type": "stream",
          "name": "stdout",
          "text": [
            "statistic: 6.0\n",
            "p-value: 0.8125\n"
          ]
        }
      ]
    },
    {
      "cell_type": "markdown",
      "source": [
        "**5. Will you accept or reject your Null Hypothesis? (alpha = 0.05) Do illustrations improve how the students retell an article or not? Why?**\n",
        "\n",
        "  Since p-value is greater than 0.05, we don't have enough evidence to reject the null hypothesis. There is no statistically significant difference between the medians of Article 1 and Article 2. Illustrations do not seem to have a significant impact on how students retell an article."
      ],
      "metadata": {
        "id": "dRlQnhh2cvHh"
      }
    },
    {
      "cell_type": "markdown",
      "source": [
        "Q2. Two companies selling toothpastes with the lable of 100 grams per tube on the package. We randomly bought eight toothpastes from each company A and B from random stores. Afterwards, we scaled them using high precision scale. Our measurements are recorded as follows:\n",
        "\n",
        "* Company A: 97.1, 101.3, 107.8, 101.9, 97.4, 104.5, 99.5, 95.1\n",
        "* Company B: 103.5, 105.3, 106.5, 107.9, 102.1, 105.6, 109.8, 97.2\n",
        "\n",
        "1. Is this a paired or unpaired experiment?\n",
        "2. Based on your previous answer, which nonparametric test statistic would you use to compare the medians of Company A and Company B.\n",
        "3. Use a nonparametric test statistic to check if there is a statistically significant difference between the medians of Company A and Company B.\n",
        "4. Will you accept or reject your Null Hypothesis? ($\\alpha = 0.05$) Are packaging processes similar or different based on weight measurements? Why?"
      ],
      "metadata": {
        "id": "d5aD4T4vXiLj"
      }
    },
    {
      "cell_type": "markdown",
      "source": [
        "**1. Is this a paired or unpaired experiment?**\n",
        "\n",
        "  This is an unpaired experiment, because we are comparing the weight of two independent groups, Company A and Company B.\n",
        "\n",
        "\n",
        "**2. Based on your previous answer, which nonparametric test statistic would you use to compare the medians of Company A and Company B.**\n",
        "\n",
        "  Since we are comparing the medians of two independent groups, I would choose the Wilcoxon rank-sum test."
      ],
      "metadata": {
        "id": "NbRhQBDLc2dW"
      }
    },
    {
      "cell_type": "code",
      "source": [
        "# 3. Use a nonparametric test statistic to check if there is a statistically significant difference between the medians of Company A and Company B.\n",
        "from scipy.stats import ranksums\n",
        "\n",
        "company_a = [97.1, 101.3, 107.8, 101.9, 97.4, 104.5, 99.5, 95.1]\n",
        "company_b = [103.5, 105.3, 106.5, 107.9, 102.1, 105.6, 109.8, 97.2]\n",
        "\n",
        "statistic, p_value = ranksums(company_a, company_b)\n",
        "\n",
        "print(f\"statistic: {statistic}\")\n",
        "print(f\"p-value: {p_value}\")"
      ],
      "metadata": {
        "colab": {
          "base_uri": "https://localhost:8080/",
          "height": 0
        },
        "id": "_e5cBtgCaJCN",
        "outputId": "b3c1b2e3-d380-48bf-a32f-1a48f7681f2e"
      },
      "execution_count": 5,
      "outputs": [
        {
          "output_type": "stream",
          "name": "stdout",
          "text": [
            "statistic: -1.995399119739914\n",
            "p-value: 0.045999366875037084\n"
          ]
        }
      ]
    },
    {
      "cell_type": "markdown",
      "source": [
        "**4. Will you accept or reject your Null Hypothesis? (α = 0.05) Are packaging processes similar or different based on weight measurements? Why?**\n",
        "\n",
        "  Since p-value is less than 0.05, we can reject the null hypothesis. There is a statistically significant difference between the medians of Company A and Company B. Packaging processes are most likely different based on the weight measurements, as there is a significant difference in the median weights of the toothpaste tubes between the two companies."
      ],
      "metadata": {
        "id": "o_LKh4ioc8nr"
      }
    }
  ]
}